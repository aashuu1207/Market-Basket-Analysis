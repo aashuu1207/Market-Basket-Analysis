{
 "cells": [
  {
   "cell_type": "code",
   "execution_count": 3,
   "id": "120703b6",
   "metadata": {},
   "outputs": [],
   "source": [
    "import pandas as pd\n",
    "from mlxtend.frequent_patterns import apriori\n",
    "from mlxtend.frequent_patterns import association_rules\n"
   ]
  },
  {
   "cell_type": "code",
   "execution_count": 31,
   "id": "4ae5ed1d",
   "metadata": {},
   "outputs": [],
   "source": [
    "#pip install mlxtend"
   ]
  },
  {
   "cell_type": "code",
   "execution_count": 6,
   "id": "ff4cbab4",
   "metadata": {},
   "outputs": [],
   "source": [
    "\n",
    "# Load the Online Retail dataset\n",
    "retail_df = pd.read_excel(r\"C:\\Users\\ASUS\\Downloads\\online+retail\\Online Retail.xlsx\")\n",
    "\n",
    "\n"
   ]
  },
  {
   "cell_type": "code",
   "execution_count": 8,
   "id": "07f6656a",
   "metadata": {},
   "outputs": [
    {
     "data": {
      "text/html": [
       "<div>\n",
       "<style scoped>\n",
       "    .dataframe tbody tr th:only-of-type {\n",
       "        vertical-align: middle;\n",
       "    }\n",
       "\n",
       "    .dataframe tbody tr th {\n",
       "        vertical-align: top;\n",
       "    }\n",
       "\n",
       "    .dataframe thead th {\n",
       "        text-align: right;\n",
       "    }\n",
       "</style>\n",
       "<table border=\"1\" class=\"dataframe\">\n",
       "  <thead>\n",
       "    <tr style=\"text-align: right;\">\n",
       "      <th></th>\n",
       "      <th>InvoiceNo</th>\n",
       "      <th>StockCode</th>\n",
       "      <th>Description</th>\n",
       "      <th>Quantity</th>\n",
       "      <th>InvoiceDate</th>\n",
       "      <th>UnitPrice</th>\n",
       "      <th>CustomerID</th>\n",
       "      <th>Country</th>\n",
       "    </tr>\n",
       "  </thead>\n",
       "  <tbody>\n",
       "    <tr>\n",
       "      <th>0</th>\n",
       "      <td>536365</td>\n",
       "      <td>85123A</td>\n",
       "      <td>WHITE HANGING HEART T-LIGHT HOLDER</td>\n",
       "      <td>6</td>\n",
       "      <td>2010-12-01 08:26:00</td>\n",
       "      <td>2.55</td>\n",
       "      <td>17850.0</td>\n",
       "      <td>United Kingdom</td>\n",
       "    </tr>\n",
       "    <tr>\n",
       "      <th>1</th>\n",
       "      <td>536365</td>\n",
       "      <td>71053</td>\n",
       "      <td>WHITE METAL LANTERN</td>\n",
       "      <td>6</td>\n",
       "      <td>2010-12-01 08:26:00</td>\n",
       "      <td>3.39</td>\n",
       "      <td>17850.0</td>\n",
       "      <td>United Kingdom</td>\n",
       "    </tr>\n",
       "    <tr>\n",
       "      <th>2</th>\n",
       "      <td>536365</td>\n",
       "      <td>84406B</td>\n",
       "      <td>CREAM CUPID HEARTS COAT HANGER</td>\n",
       "      <td>8</td>\n",
       "      <td>2010-12-01 08:26:00</td>\n",
       "      <td>2.75</td>\n",
       "      <td>17850.0</td>\n",
       "      <td>United Kingdom</td>\n",
       "    </tr>\n",
       "    <tr>\n",
       "      <th>3</th>\n",
       "      <td>536365</td>\n",
       "      <td>84029G</td>\n",
       "      <td>KNITTED UNION FLAG HOT WATER BOTTLE</td>\n",
       "      <td>6</td>\n",
       "      <td>2010-12-01 08:26:00</td>\n",
       "      <td>3.39</td>\n",
       "      <td>17850.0</td>\n",
       "      <td>United Kingdom</td>\n",
       "    </tr>\n",
       "    <tr>\n",
       "      <th>4</th>\n",
       "      <td>536365</td>\n",
       "      <td>84029E</td>\n",
       "      <td>RED WOOLLY HOTTIE WHITE HEART.</td>\n",
       "      <td>6</td>\n",
       "      <td>2010-12-01 08:26:00</td>\n",
       "      <td>3.39</td>\n",
       "      <td>17850.0</td>\n",
       "      <td>United Kingdom</td>\n",
       "    </tr>\n",
       "  </tbody>\n",
       "</table>\n",
       "</div>"
      ],
      "text/plain": [
       "  InvoiceNo StockCode                          Description  Quantity  \\\n",
       "0    536365    85123A   WHITE HANGING HEART T-LIGHT HOLDER         6   \n",
       "1    536365     71053                  WHITE METAL LANTERN         6   \n",
       "2    536365    84406B       CREAM CUPID HEARTS COAT HANGER         8   \n",
       "3    536365    84029G  KNITTED UNION FLAG HOT WATER BOTTLE         6   \n",
       "4    536365    84029E       RED WOOLLY HOTTIE WHITE HEART.         6   \n",
       "\n",
       "          InvoiceDate  UnitPrice  CustomerID         Country  \n",
       "0 2010-12-01 08:26:00       2.55     17850.0  United Kingdom  \n",
       "1 2010-12-01 08:26:00       3.39     17850.0  United Kingdom  \n",
       "2 2010-12-01 08:26:00       2.75     17850.0  United Kingdom  \n",
       "3 2010-12-01 08:26:00       3.39     17850.0  United Kingdom  \n",
       "4 2010-12-01 08:26:00       3.39     17850.0  United Kingdom  "
      ]
     },
     "execution_count": 8,
     "metadata": {},
     "output_type": "execute_result"
    }
   ],
   "source": [
    "retail_df.head()"
   ]
  },
  {
   "cell_type": "code",
   "execution_count": 10,
   "id": "c4a2d1c8",
   "metadata": {},
   "outputs": [
    {
     "name": "stdout",
     "output_type": "stream",
     "text": [
      "<class 'pandas.core.frame.DataFrame'>\n",
      "RangeIndex: 541909 entries, 0 to 541908\n",
      "Data columns (total 8 columns):\n",
      " #   Column       Non-Null Count   Dtype         \n",
      "---  ------       --------------   -----         \n",
      " 0   InvoiceNo    541909 non-null  object        \n",
      " 1   StockCode    541909 non-null  object        \n",
      " 2   Description  540455 non-null  object        \n",
      " 3   Quantity     541909 non-null  int64         \n",
      " 4   InvoiceDate  541909 non-null  datetime64[ns]\n",
      " 5   UnitPrice    541909 non-null  float64       \n",
      " 6   CustomerID   406829 non-null  float64       \n",
      " 7   Country      541909 non-null  object        \n",
      "dtypes: datetime64[ns](1), float64(2), int64(1), object(4)\n",
      "memory usage: 33.1+ MB\n"
     ]
    }
   ],
   "source": [
    "retail_df.info()"
   ]
  },
  {
   "cell_type": "code",
   "execution_count": 11,
   "id": "682b9369",
   "metadata": {},
   "outputs": [
    {
     "data": {
      "text/plain": [
       "InvoiceNo           0\n",
       "StockCode           0\n",
       "Description      1454\n",
       "Quantity            0\n",
       "InvoiceDate         0\n",
       "UnitPrice           0\n",
       "CustomerID     135080\n",
       "Country             0\n",
       "dtype: int64"
      ]
     },
     "execution_count": 11,
     "metadata": {},
     "output_type": "execute_result"
    }
   ],
   "source": [
    "retail_df.isnull().sum()"
   ]
  },
  {
   "cell_type": "code",
   "execution_count": 12,
   "id": "6f4ad549",
   "metadata": {},
   "outputs": [
    {
     "data": {
      "text/plain": [
       "(541909, 8)"
      ]
     },
     "execution_count": 12,
     "metadata": {},
     "output_type": "execute_result"
    }
   ],
   "source": [
    "retail_df.shape"
   ]
  },
  {
   "cell_type": "code",
   "execution_count": 13,
   "id": "653e5e01",
   "metadata": {},
   "outputs": [
    {
     "name": "stderr",
     "output_type": "stream",
     "text": [
      "C:\\Users\\ASUS\\AppData\\Local\\Temp\\ipykernel_12640\\1199804664.py:3: SettingWithCopyWarning: \n",
      "A value is trying to be set on a copy of a slice from a DataFrame.\n",
      "Try using .loc[row_indexer,col_indexer] = value instead\n",
      "\n",
      "See the caveats in the documentation: https://pandas.pydata.org/pandas-docs/stable/user_guide/indexing.html#returning-a-view-versus-a-copy\n",
      "  retail_df['Description'] = retail_df['Description'].str.strip()\n"
     ]
    }
   ],
   "source": [
    "# Clean the dataset (remove null values, unnecessary columns, etc.)\n",
    "retail_df = retail_df.dropna()\n",
    "retail_df['Description'] = retail_df['Description'].str.strip()\n",
    "\n"
   ]
  },
  {
   "cell_type": "code",
   "execution_count": 14,
   "id": "f1b22d5d",
   "metadata": {},
   "outputs": [],
   "source": [
    "# Convert the dataset into a transaction format\n",
    "basket = (retail_df.groupby(['InvoiceNo', 'Description'])['Quantity']\n",
    "          .sum().unstack().reset_index().fillna(0)\n",
    "          .set_index('InvoiceNo'))\n",
    "\n"
   ]
  },
  {
   "cell_type": "code",
   "execution_count": 15,
   "id": "a2b60176",
   "metadata": {},
   "outputs": [],
   "source": [
    "# Encode the transaction data (0 for absence, 1 for presence)\n",
    "def encode_units(x):\n",
    "    if x <= 0:\n",
    "        return 0\n",
    "    if x >= 1:\n",
    "        return 1\n",
    "\n",
    "basket_sets = basket.applymap(encode_units)\n"
   ]
  },
  {
   "cell_type": "code",
   "execution_count": 29,
   "id": "002129a3",
   "metadata": {},
   "outputs": [
    {
     "name": "stderr",
     "output_type": "stream",
     "text": [
      "C:\\Users\\ASUS\\anaconda\\lib\\site-packages\\mlxtend\\frequent_patterns\\fpcommon.py:110: DeprecationWarning: DataFrames with non-bool types result in worse computationalperformance and their support might be discontinued in the future.Please use a DataFrame with bool type\n",
      "  warnings.warn(\n"
     ]
    }
   ],
   "source": [
    "\n",
    "# Perform association rule mining using the Apriori algorithm\n",
    "frequent_itemsets = apriori(basket_sets, min_support=0.01, use_colnames=True)\n",
    "rules = association_rules(frequent_itemsets, metric=\"lift\", min_threshold=1.0)\n",
    "\n"
   ]
  },
  {
   "cell_type": "code",
   "execution_count": 30,
   "id": "7a0a068e",
   "metadata": {},
   "outputs": [
    {
     "name": "stdout",
     "output_type": "stream",
     "text": [
      "                                           antecedents  \\\n",
      "0                     (72 SWEETHEART FAIRY CAKE CASES)   \n",
      "1                        (60 TEATIME FAIRY CAKE CASES)   \n",
      "2                     (PACK OF 60 DINOSAUR CAKE CASES)   \n",
      "3                        (60 TEATIME FAIRY CAKE CASES)   \n",
      "4                 (PACK OF 60 PINK PAISLEY CAKE CASES)   \n",
      "..                                                 ...   \n",
      "551  (ROSES REGENCY TEACUP AND SAUCER, REGENCY CAKE...   \n",
      "552                  (GREEN REGENCY TEACUP AND SAUCER)   \n",
      "553                   (PINK REGENCY TEACUP AND SAUCER)   \n",
      "554                  (ROSES REGENCY TEACUP AND SAUCER)   \n",
      "555                         (REGENCY CAKESTAND 3 TIER)   \n",
      "\n",
      "                                           consequents  antecedent support  \\\n",
      "0                        (60 TEATIME FAIRY CAKE CASES)            0.022578   \n",
      "1                     (72 SWEETHEART FAIRY CAKE CASES)            0.029608   \n",
      "2                        (60 TEATIME FAIRY CAKE CASES)            0.023840   \n",
      "3                     (PACK OF 60 DINOSAUR CAKE CASES)            0.029608   \n",
      "4                        (60 TEATIME FAIRY CAKE CASES)            0.030149   \n",
      "..                                                 ...                 ...   \n",
      "551  (GREEN REGENCY TEACUP AND SAUCER, PINK REGENCY...            0.018927   \n",
      "552  (PINK REGENCY TEACUP AND SAUCER, ROSES REGENCY...            0.031140   \n",
      "553  (GREEN REGENCY TEACUP AND SAUCER, ROSES REGENC...            0.025056   \n",
      "554  (GREEN REGENCY TEACUP AND SAUCER, PINK REGENCY...            0.035286   \n",
      "555  (GREEN REGENCY TEACUP AND SAUCER, PINK REGENCY...            0.076791   \n",
      "\n",
      "     consequent support   support  confidence       lift  leverage  \\\n",
      "0              0.029608  0.010005    0.443114  14.966050  0.009336   \n",
      "1              0.022578  0.010005    0.337900  14.966050  0.009336   \n",
      "2              0.029608  0.010050    0.421550  14.237742  0.009344   \n",
      "3              0.023840  0.010050    0.339422  14.237742  0.009344   \n",
      "4              0.029608  0.012618    0.418535  14.135912  0.011726   \n",
      "..                  ...       ...         ...        ...       ...   \n",
      "551            0.020730  0.010771    0.569048  27.450362  0.010378   \n",
      "552            0.011942  0.010771    0.345876  28.962182  0.010399   \n",
      "553            0.014060  0.010771    0.429856  30.572138  0.010418   \n",
      "554            0.012213  0.010771    0.305236  24.993332  0.010340   \n",
      "555            0.017575  0.010771    0.140258   7.980333  0.009421   \n",
      "\n",
      "     conviction  zhangs_metric  \n",
      "0      1.742532       0.954738  \n",
      "1      1.476245       0.961655  \n",
      "2      1.677573       0.952471  \n",
      "3      1.477736       0.958132  \n",
      "4      1.668875       0.958145  \n",
      "..          ...            ...  \n",
      "551    2.272339       0.982160  \n",
      "552    1.510504       0.996503  \n",
      "553    1.729282       0.992150  \n",
      "554    1.421760       0.995103  \n",
      "555    1.142697       0.947448  \n",
      "\n",
      "[556 rows x 10 columns]\n"
     ]
    }
   ],
   "source": [
    "# Display the resulting association rules\n",
    "print(rules)"
   ]
  },
  {
   "cell_type": "code",
   "execution_count": 36,
   "id": "243305c2",
   "metadata": {
    "scrolled": true
   },
   "outputs": [
    {
     "data": {
      "image/png": "[encoded data removed]",
      "text/plain": [
       "<Figure size 1000x600 with 1 Axes>"
      ]
     },
     "metadata": {},
     "output_type": "display_data"
    }
   ],
   "source": [
    "# visualization \n",
    "import matplotlib.pyplot as plt\n",
    "\n",
    "# Select top N frequently occurring items\n",
    "top_items = frequent_itemsets.sort_values(by='support', ascending=False).head()\n",
    "\n",
    "# Plot bar chart\n",
    "plt.figure(figsize=(10, 6))\n",
    "plt.bar(top_items['itemsets'].apply(lambda x: ', '.join(list(x))), top_items['support'])\n",
    "plt.xticks(rotation=90)\n",
    "plt.xlabel('Items')\n",
    "plt.ylabel('Support')\n",
    "plt.title('Top {} Frequently Occurring Items'.format(5))\n",
    "plt.show()\n"
   ]
  },
  {
   "cell_type": "code",
   "execution_count": 48,
   "id": "a232774e",
   "metadata": {},
   "outputs": [],
   "source": [
    "#Rule evaluation Matrics"
   ]
  },
  {
   "cell_type": "code",
   "execution_count": 81,
   "id": "5fe98698",
   "metadata": {},
   "outputs": [],
   "source": [
    "rules['leverage'] = (rules['support'] - rules['antecedent support'] * rules['consequent support'])/ (rules['antecedent support'] * (1 - rules['consequent support']))\n",
    "rules['conviction'] = (1 - rules['consequent support']) / (1 - rules['confidence'])\n"
   ]
  },
  {
   "cell_type": "code",
   "execution_count": 82,
   "id": "72185537",
   "metadata": {},
   "outputs": [],
   "source": [
    "from mlxtend.frequent_patterns import association_rules\n",
    "\n",
    "pruned_rules = association_rules(frequent_itemsets, metric='confidence', min_threshold=0.5)\n",
    "pruned_rules = pruned_rules[pruned_rules['lift'] > 1]\n"
   ]
  },
  {
   "cell_type": "code",
   "execution_count": 83,
   "id": "84fdd45c",
   "metadata": {},
   "outputs": [],
   "source": [
    "#multiple matrics comparison\n"
   ]
  },
  {
   "cell_type": "code",
   "execution_count": 84,
   "id": "1daf9158",
   "metadata": {},
   "outputs": [],
   "source": [
    "N = 5\n",
    "rules['rank'] = rules['confidence'] * rules['lift'] * rules['support']\n",
    "top_rules = rules.nlargest(N, 'rank')\n"
   ]
  },
  {
   "cell_type": "code",
   "execution_count": 85,
   "id": "40ddac7d",
   "metadata": {},
   "outputs": [],
   "source": [
    "#customer segmentation "
   ]
  },
  {
   "cell_type": "code",
   "execution_count": 86,
   "id": "da421e2c",
   "metadata": {},
   "outputs": [
    {
     "name": "stderr",
     "output_type": "stream",
     "text": [
      "C:\\Users\\ASUS\\anaconda\\lib\\site-packages\\sklearn\\cluster\\_kmeans.py:870: FutureWarning: The default value of `n_init` will change from 10 to 'auto' in 1.4. Set the value of `n_init` explicitly to suppress the warning\n",
      "  warnings.warn(\n"
     ]
    }
   ],
   "source": [
    "from sklearn.cluster import KMeans\n",
    "\n",
    "k = 3\n",
    "kmeans = KMeans(n_clusters=k, random_state=42)\n",
    "cluster_labels = kmeans.fit_predict(basket_sets)\n",
    "basket_sets['Cluster'] = cluster_labels\n"
   ]
  },
  {
   "cell_type": "code",
   "execution_count": 87,
   "id": "44de0ea1",
   "metadata": {},
   "outputs": [],
   "source": [
    "#support for online recommendation"
   ]
  },
  {
   "cell_type": "code",
   "execution_count": 88,
   "id": "7789c730",
   "metadata": {},
   "outputs": [],
   "source": [
    "def recommend_items(previous_purchases, rules, top_n=5):\n",
    "    recommended_items = set()\n",
    "    for item in previous_purchases:\n",
    "        related_items = rules[rules['antecedents'] == {item}]['consequents'].tolist()\n",
    "        for items in related_items:\n",
    "            recommended_items.update(items)\n",
    "    recommended_items = recommended_items - set(previous_purchases)\n",
    "    return list(recommended_items)[:top_n]\n",
    "\n",
    "# Example usage\n",
    "previous_purchases = ['Product1', 'Product2']\n",
    "recommendations = recommend_items(previous_purchases, rules, top_n=5)\n"
   ]
  },
  {
   "cell_type": "code",
   "execution_count": null,
   "id": "d52842db",
   "metadata": {},
   "outputs": [],
   "source": []
  }
 ],
 "metadata": {
  "kernelspec": {
   "display_name": "Python 3 (ipykernel)",
   "language": "python",
   "name": "python3"
  },
  "language_info": {
   "codemirror_mode": {
    "name": "ipython",
    "version": 3
   },
   "file_extension": ".py",
   "mimetype": "text/x-python",
   "name": "python",
   "nbconvert_exporter": "python",
   "pygments_lexer": "ipython3",
   "version": "3.10.9"
  }
 },
 "nbformat": 4,
 "nbformat_minor": 5
}
